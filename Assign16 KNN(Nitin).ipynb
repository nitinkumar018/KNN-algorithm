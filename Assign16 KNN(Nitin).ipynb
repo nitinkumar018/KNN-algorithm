{
 "cells": [
  {
   "cell_type": "markdown",
   "id": "f7550202",
   "metadata": {},
   "source": [
    "Dataset says we need to Classify the animal type as 1,2,3,4,5,6,7 which means it's case of multiclassification. As we know that the KNN algorithm is designed for multiclassification which is used to classify the data, therefore, in this dataset, we can use KNN algorithm. "
   ]
  },
  {
   "cell_type": "markdown",
   "id": "ba38ec37",
   "metadata": {},
   "source": [
    "# 1. Analyse the data using the visualizations\n",
    "\n",
    "# 2. Preprocess the data by handling missing values & Outliers, if any.\n"
   ]
  },
  {
   "cell_type": "code",
   "execution_count": 1,
   "id": "88b725ed",
   "metadata": {},
   "outputs": [],
   "source": [
    "import warnings\n",
    "warnings.filterwarnings('ignore')  # use to avoid warning in the code"
   ]
  },
  {
   "cell_type": "code",
   "execution_count": 2,
   "id": "5873dd8f",
   "metadata": {},
   "outputs": [],
   "source": [
    "import pandas as pd # import pandas lib using it's short form "
   ]
  },
  {
   "cell_type": "code",
   "execution_count": 3,
   "id": "4b761b2d",
   "metadata": {},
   "outputs": [],
   "source": [
    "data = pd.read_csv(r'Zoo.csv') # read the data"
   ]
  },
  {
   "cell_type": "code",
   "execution_count": 4,
   "id": "c3723291",
   "metadata": {},
   "outputs": [
    {
     "data": {
      "text/html": [
       "<div>\n",
       "<style scoped>\n",
       "    .dataframe tbody tr th:only-of-type {\n",
       "        vertical-align: middle;\n",
       "    }\n",
       "\n",
       "    .dataframe tbody tr th {\n",
       "        vertical-align: top;\n",
       "    }\n",
       "\n",
       "    .dataframe thead th {\n",
       "        text-align: right;\n",
       "    }\n",
       "</style>\n",
       "<table border=\"1\" class=\"dataframe\">\n",
       "  <thead>\n",
       "    <tr style=\"text-align: right;\">\n",
       "      <th></th>\n",
       "      <th>animal name</th>\n",
       "      <th>hair</th>\n",
       "      <th>feathers</th>\n",
       "      <th>eggs</th>\n",
       "      <th>milk</th>\n",
       "      <th>airborne</th>\n",
       "      <th>aquatic</th>\n",
       "      <th>predator</th>\n",
       "      <th>toothed</th>\n",
       "      <th>backbone</th>\n",
       "      <th>breathes</th>\n",
       "      <th>venomous</th>\n",
       "      <th>fins</th>\n",
       "      <th>legs</th>\n",
       "      <th>tail</th>\n",
       "      <th>domestic</th>\n",
       "      <th>catsize</th>\n",
       "      <th>type</th>\n",
       "    </tr>\n",
       "  </thead>\n",
       "  <tbody>\n",
       "    <tr>\n",
       "      <th>0</th>\n",
       "      <td>aardvark</td>\n",
       "      <td>1</td>\n",
       "      <td>0</td>\n",
       "      <td>0</td>\n",
       "      <td>1</td>\n",
       "      <td>0</td>\n",
       "      <td>0</td>\n",
       "      <td>1</td>\n",
       "      <td>1</td>\n",
       "      <td>1</td>\n",
       "      <td>1</td>\n",
       "      <td>0</td>\n",
       "      <td>0</td>\n",
       "      <td>4</td>\n",
       "      <td>0</td>\n",
       "      <td>0</td>\n",
       "      <td>1</td>\n",
       "      <td>1</td>\n",
       "    </tr>\n",
       "    <tr>\n",
       "      <th>1</th>\n",
       "      <td>antelope</td>\n",
       "      <td>1</td>\n",
       "      <td>0</td>\n",
       "      <td>0</td>\n",
       "      <td>1</td>\n",
       "      <td>0</td>\n",
       "      <td>0</td>\n",
       "      <td>0</td>\n",
       "      <td>1</td>\n",
       "      <td>1</td>\n",
       "      <td>1</td>\n",
       "      <td>0</td>\n",
       "      <td>0</td>\n",
       "      <td>4</td>\n",
       "      <td>1</td>\n",
       "      <td>0</td>\n",
       "      <td>1</td>\n",
       "      <td>1</td>\n",
       "    </tr>\n",
       "    <tr>\n",
       "      <th>2</th>\n",
       "      <td>bass</td>\n",
       "      <td>0</td>\n",
       "      <td>0</td>\n",
       "      <td>1</td>\n",
       "      <td>0</td>\n",
       "      <td>0</td>\n",
       "      <td>1</td>\n",
       "      <td>1</td>\n",
       "      <td>1</td>\n",
       "      <td>1</td>\n",
       "      <td>0</td>\n",
       "      <td>0</td>\n",
       "      <td>1</td>\n",
       "      <td>0</td>\n",
       "      <td>1</td>\n",
       "      <td>0</td>\n",
       "      <td>0</td>\n",
       "      <td>4</td>\n",
       "    </tr>\n",
       "    <tr>\n",
       "      <th>3</th>\n",
       "      <td>bear</td>\n",
       "      <td>1</td>\n",
       "      <td>0</td>\n",
       "      <td>0</td>\n",
       "      <td>1</td>\n",
       "      <td>0</td>\n",
       "      <td>0</td>\n",
       "      <td>1</td>\n",
       "      <td>1</td>\n",
       "      <td>1</td>\n",
       "      <td>1</td>\n",
       "      <td>0</td>\n",
       "      <td>0</td>\n",
       "      <td>4</td>\n",
       "      <td>0</td>\n",
       "      <td>0</td>\n",
       "      <td>1</td>\n",
       "      <td>1</td>\n",
       "    </tr>\n",
       "    <tr>\n",
       "      <th>4</th>\n",
       "      <td>boar</td>\n",
       "      <td>1</td>\n",
       "      <td>0</td>\n",
       "      <td>0</td>\n",
       "      <td>1</td>\n",
       "      <td>0</td>\n",
       "      <td>0</td>\n",
       "      <td>1</td>\n",
       "      <td>1</td>\n",
       "      <td>1</td>\n",
       "      <td>1</td>\n",
       "      <td>0</td>\n",
       "      <td>0</td>\n",
       "      <td>4</td>\n",
       "      <td>1</td>\n",
       "      <td>0</td>\n",
       "      <td>1</td>\n",
       "      <td>1</td>\n",
       "    </tr>\n",
       "  </tbody>\n",
       "</table>\n",
       "</div>"
      ],
      "text/plain": [
       "  animal name  hair  feathers  eggs  milk  airborne  aquatic  predator  \\\n",
       "0    aardvark     1         0     0     1         0        0         1   \n",
       "1    antelope     1         0     0     1         0        0         0   \n",
       "2        bass     0         0     1     0         0        1         1   \n",
       "3        bear     1         0     0     1         0        0         1   \n",
       "4        boar     1         0     0     1         0        0         1   \n",
       "\n",
       "   toothed  backbone  breathes  venomous  fins  legs  tail  domestic  catsize  \\\n",
       "0        1         1         1         0     0     4     0         0        1   \n",
       "1        1         1         1         0     0     4     1         0        1   \n",
       "2        1         1         0         0     1     0     1         0        0   \n",
       "3        1         1         1         0     0     4     0         0        1   \n",
       "4        1         1         1         0     0     4     1         0        1   \n",
       "\n",
       "   type  \n",
       "0     1  \n",
       "1     1  \n",
       "2     4  \n",
       "3     1  \n",
       "4     1  "
      ]
     },
     "execution_count": 4,
     "metadata": {},
     "output_type": "execute_result"
    }
   ],
   "source": [
    "data.head() #display top 5 rows"
   ]
  },
  {
   "cell_type": "code",
   "execution_count": 5,
   "id": "eea1a1a1",
   "metadata": {},
   "outputs": [
    {
     "name": "stdout",
     "output_type": "stream",
     "text": [
      "<class 'pandas.core.frame.DataFrame'>\n",
      "RangeIndex: 101 entries, 0 to 100\n",
      "Data columns (total 18 columns):\n",
      " #   Column       Non-Null Count  Dtype \n",
      "---  ------       --------------  ----- \n",
      " 0   animal name  101 non-null    object\n",
      " 1   hair         101 non-null    int64 \n",
      " 2   feathers     101 non-null    int64 \n",
      " 3   eggs         101 non-null    int64 \n",
      " 4   milk         101 non-null    int64 \n",
      " 5   airborne     101 non-null    int64 \n",
      " 6   aquatic      101 non-null    int64 \n",
      " 7   predator     101 non-null    int64 \n",
      " 8   toothed      101 non-null    int64 \n",
      " 9   backbone     101 non-null    int64 \n",
      " 10  breathes     101 non-null    int64 \n",
      " 11  venomous     101 non-null    int64 \n",
      " 12  fins         101 non-null    int64 \n",
      " 13  legs         101 non-null    int64 \n",
      " 14  tail         101 non-null    int64 \n",
      " 15  domestic     101 non-null    int64 \n",
      " 16  catsize      101 non-null    int64 \n",
      " 17  type         101 non-null    int64 \n",
      "dtypes: int64(17), object(1)\n",
      "memory usage: 14.3+ KB\n"
     ]
    }
   ],
   "source": [
    "data.info() # gives info about null values and data type of each column"
   ]
  },
  {
   "cell_type": "code",
   "execution_count": 6,
   "id": "88aa6fda",
   "metadata": {},
   "outputs": [
    {
     "data": {
      "text/plain": [
       "animal name    0\n",
       "hair           0\n",
       "feathers       0\n",
       "eggs           0\n",
       "milk           0\n",
       "airborne       0\n",
       "aquatic        0\n",
       "predator       0\n",
       "toothed        0\n",
       "backbone       0\n",
       "breathes       0\n",
       "venomous       0\n",
       "fins           0\n",
       "legs           0\n",
       "tail           0\n",
       "domestic       0\n",
       "catsize        0\n",
       "type           0\n",
       "dtype: int64"
      ]
     },
     "execution_count": 6,
     "metadata": {},
     "output_type": "execute_result"
    }
   ],
   "source": [
    "data.isnull().sum()  # null values in each column"
   ]
  },
  {
   "cell_type": "markdown",
   "id": "2e9ec8ee",
   "metadata": {},
   "source": [
    "It means, there is no null value in our dataset"
   ]
  },
  {
   "cell_type": "code",
   "execution_count": 7,
   "id": "30e9180b",
   "metadata": {},
   "outputs": [
    {
     "data": {
      "text/plain": [
       "animal name    object\n",
       "hair            int64\n",
       "feathers        int64\n",
       "eggs            int64\n",
       "milk            int64\n",
       "airborne        int64\n",
       "aquatic         int64\n",
       "predator        int64\n",
       "toothed         int64\n",
       "backbone        int64\n",
       "breathes        int64\n",
       "venomous        int64\n",
       "fins            int64\n",
       "legs            int64\n",
       "tail            int64\n",
       "domestic        int64\n",
       "catsize         int64\n",
       "type            int64\n",
       "dtype: object"
      ]
     },
     "execution_count": 7,
     "metadata": {},
     "output_type": "execute_result"
    }
   ],
   "source": [
    "data.dtypes # data type in each column"
   ]
  },
  {
   "cell_type": "code",
   "execution_count": 8,
   "id": "ab83f2f1",
   "metadata": {},
   "outputs": [
    {
     "data": {
      "text/plain": [
       "(101, 18)"
      ]
     },
     "execution_count": 8,
     "metadata": {},
     "output_type": "execute_result"
    }
   ],
   "source": [
    "data.shape  # rows and columns"
   ]
  },
  {
   "cell_type": "code",
   "execution_count": 9,
   "id": "33874da5",
   "metadata": {},
   "outputs": [
    {
     "data": {
      "text/html": [
       "<div>\n",
       "<style scoped>\n",
       "    .dataframe tbody tr th:only-of-type {\n",
       "        vertical-align: middle;\n",
       "    }\n",
       "\n",
       "    .dataframe tbody tr th {\n",
       "        vertical-align: top;\n",
       "    }\n",
       "\n",
       "    .dataframe thead th {\n",
       "        text-align: right;\n",
       "    }\n",
       "</style>\n",
       "<table border=\"1\" class=\"dataframe\">\n",
       "  <thead>\n",
       "    <tr style=\"text-align: right;\">\n",
       "      <th></th>\n",
       "      <th>animal name</th>\n",
       "      <th>hair</th>\n",
       "      <th>feathers</th>\n",
       "      <th>eggs</th>\n",
       "      <th>milk</th>\n",
       "      <th>airborne</th>\n",
       "      <th>aquatic</th>\n",
       "      <th>predator</th>\n",
       "      <th>toothed</th>\n",
       "      <th>backbone</th>\n",
       "      <th>breathes</th>\n",
       "      <th>venomous</th>\n",
       "      <th>fins</th>\n",
       "      <th>legs</th>\n",
       "      <th>tail</th>\n",
       "      <th>domestic</th>\n",
       "      <th>catsize</th>\n",
       "      <th>type</th>\n",
       "    </tr>\n",
       "  </thead>\n",
       "  <tbody>\n",
       "  </tbody>\n",
       "</table>\n",
       "</div>"
      ],
      "text/plain": [
       "Empty DataFrame\n",
       "Columns: [animal name, hair, feathers, eggs, milk, airborne, aquatic, predator, toothed, backbone, breathes, venomous, fins, legs, tail, domestic, catsize, type]\n",
       "Index: []"
      ]
     },
     "execution_count": 9,
     "metadata": {},
     "output_type": "execute_result"
    }
   ],
   "source": [
    "data[data.duplicated()]  # display duplicated rows"
   ]
  },
  {
   "cell_type": "markdown",
   "id": "69abe173",
   "metadata": {},
   "source": [
    "It means, there is no duplicated row in the dataset"
   ]
  },
  {
   "cell_type": "markdown",
   "id": "a6778c63",
   "metadata": {},
   "source": [
    "# Let's check all the categorical columns in the dataset"
   ]
  },
  {
   "cell_type": "code",
   "execution_count": 10,
   "id": "7c741421",
   "metadata": {},
   "outputs": [
    {
     "data": {
      "text/plain": [
       "Index(['animal name', 'hair', 'feathers', 'eggs', 'milk', 'airborne',\n",
       "       'aquatic', 'predator', 'toothed', 'backbone', 'breathes', 'venomous',\n",
       "       'fins', 'legs', 'tail', 'domestic', 'catsize', 'type'],\n",
       "      dtype='object')"
      ]
     },
     "execution_count": 10,
     "metadata": {},
     "output_type": "execute_result"
    }
   ],
   "source": [
    "data.columns"
   ]
  },
  {
   "cell_type": "code",
   "execution_count": 11,
   "id": "20d8b2bb",
   "metadata": {},
   "outputs": [
    {
     "data": {
      "text/plain": [
       "['animal name']"
      ]
     },
     "execution_count": 11,
     "metadata": {},
     "output_type": "execute_result"
    }
   ],
   "source": [
    "colname = []                      #blank list\n",
    "for x in data.columns:           # x can be any column like animal name, hair,.........,type\n",
    "    if data[x].dtypes=='object': # data type of any column is equal to object means that column is categorical \n",
    "        colname.append(x)         # categorical column will add in blank list\n",
    "colname                            # all the categorical columns saved in var. colname \n",
    "    "
   ]
  },
  {
   "cell_type": "markdown",
   "id": "868944c3",
   "metadata": {},
   "source": [
    "Since, machine understand only numbers. Therefore, convert categorical column into numerical column which can be done either by dummy variable or Label Encoding"
   ]
  },
  {
   "cell_type": "code",
   "execution_count": 12,
   "id": "17bf6d79",
   "metadata": {},
   "outputs": [
    {
     "data": {
      "text/plain": [
       "array(['aardvark', 'antelope', 'bass', 'bear', 'boar', 'buffalo', 'calf',\n",
       "       'carp', 'catfish', 'cavy', 'cheetah', 'chicken', 'chub', 'clam',\n",
       "       'crab', 'crayfish', 'crow', 'deer', 'dogfish', 'dolphin', 'dove',\n",
       "       'duck', 'elephant', 'flamingo', 'flea', 'frog', 'fruitbat',\n",
       "       'giraffe', 'girl', 'gnat', 'goat', 'gorilla', 'gull', 'haddock',\n",
       "       'hamster', 'hare', 'hawk', 'herring', 'honeybee', 'housefly',\n",
       "       'kiwi', 'ladybird', 'lark', 'leopard', 'lion', 'lobster', 'lynx',\n",
       "       'mink', 'mole', 'mongoose', 'moth', 'newt', 'octopus', 'opossum',\n",
       "       'oryx', 'ostrich', 'parakeet', 'penguin', 'pheasant', 'pike',\n",
       "       'piranha', 'pitviper', 'platypus', 'polecat', 'pony', 'porpoise',\n",
       "       'puma', 'pussycat', 'raccoon', 'reindeer', 'rhea', 'scorpion',\n",
       "       'seahorse', 'seal', 'sealion', 'seasnake', 'seawasp', 'skimmer',\n",
       "       'skua', 'slowworm', 'slug', 'sole', 'sparrow', 'squirrel',\n",
       "       'starfish', 'stingray', 'swan', 'termite', 'toad', 'tortoise',\n",
       "       'tuatara', 'tuna', 'vampire', 'vole', 'vulture', 'wallaby', 'wasp',\n",
       "       'wolf', 'worm', 'wren'], dtype=object)"
      ]
     },
     "execution_count": 12,
     "metadata": {},
     "output_type": "execute_result"
    }
   ],
   "source": [
    "data['animal name'].unique()"
   ]
  },
  {
   "cell_type": "markdown",
   "id": "5b92245a",
   "metadata": {},
   "source": [
    "# Since, there are more no. of unique values, we always prefer Label Encoding"
   ]
  },
  {
   "cell_type": "code",
   "execution_count": 13,
   "id": "204cc0c1",
   "metadata": {},
   "outputs": [
    {
     "name": "stdout",
     "output_type": "stream",
     "text": [
      "Feature animal name\n",
      "mapping {'aardvark': 0, 'antelope': 1, 'bass': 2, 'bear': 3, 'boar': 4, 'buffalo': 5, 'calf': 6, 'carp': 7, 'catfish': 8, 'cavy': 9, 'cheetah': 10, 'chicken': 11, 'chub': 12, 'clam': 13, 'crab': 14, 'crayfish': 15, 'crow': 16, 'deer': 17, 'dogfish': 18, 'dolphin': 19, 'dove': 20, 'duck': 21, 'elephant': 22, 'flamingo': 23, 'flea': 24, 'frog': 25, 'fruitbat': 26, 'giraffe': 27, 'girl': 28, 'gnat': 29, 'goat': 30, 'gorilla': 31, 'gull': 32, 'haddock': 33, 'hamster': 34, 'hare': 35, 'hawk': 36, 'herring': 37, 'honeybee': 38, 'housefly': 39, 'kiwi': 40, 'ladybird': 41, 'lark': 42, 'leopard': 43, 'lion': 44, 'lobster': 45, 'lynx': 46, 'mink': 47, 'mole': 48, 'mongoose': 49, 'moth': 50, 'newt': 51, 'octopus': 52, 'opossum': 53, 'oryx': 54, 'ostrich': 55, 'parakeet': 56, 'penguin': 57, 'pheasant': 58, 'pike': 59, 'piranha': 60, 'pitviper': 61, 'platypus': 62, 'polecat': 63, 'pony': 64, 'porpoise': 65, 'puma': 66, 'pussycat': 67, 'raccoon': 68, 'reindeer': 69, 'rhea': 70, 'scorpion': 71, 'seahorse': 72, 'seal': 73, 'sealion': 74, 'seasnake': 75, 'seawasp': 76, 'skimmer': 77, 'skua': 78, 'slowworm': 79, 'slug': 80, 'sole': 81, 'sparrow': 82, 'squirrel': 83, 'starfish': 84, 'stingray': 85, 'swan': 86, 'termite': 87, 'toad': 88, 'tortoise': 89, 'tuatara': 90, 'tuna': 91, 'vampire': 92, 'vole': 93, 'vulture': 94, 'wallaby': 95, 'wasp': 96, 'wolf': 97, 'worm': 98, 'wren': 99}\n"
     ]
    }
   ],
   "source": [
    "from sklearn.preprocessing import LabelEncoder # import LabelEncoder function from preprocessing sublibrary\n",
    "le=LabelEncoder()                              # save LabelEncoder function in a variable le\n",
    "for x in colname:                             # x means animal name as colname = ['animal name']\n",
    "    data[x]=le.fit_transform(data[x]) # it assigns numbers to all values of categrorical column but representation is not like a dictionary\n",
    "    le_name_mapping=dict(zip(le.classes_,le.transform(le.classes_))) #it arranges all values of categorical column in alphabetical order just like a dictionary and then assign numbers to these values as 0,1,2,3...\n",
    "    print('Feature',x)                      #display the name of categorical column\n",
    "    print('mapping', le_name_mapping)         # display the numbers assigned to all the values of categorical column"
   ]
  },
  {
   "cell_type": "code",
   "execution_count": 14,
   "id": "6f3d727b",
   "metadata": {},
   "outputs": [
    {
     "data": {
      "text/html": [
       "<div>\n",
       "<style scoped>\n",
       "    .dataframe tbody tr th:only-of-type {\n",
       "        vertical-align: middle;\n",
       "    }\n",
       "\n",
       "    .dataframe tbody tr th {\n",
       "        vertical-align: top;\n",
       "    }\n",
       "\n",
       "    .dataframe thead th {\n",
       "        text-align: right;\n",
       "    }\n",
       "</style>\n",
       "<table border=\"1\" class=\"dataframe\">\n",
       "  <thead>\n",
       "    <tr style=\"text-align: right;\">\n",
       "      <th></th>\n",
       "      <th>animal name</th>\n",
       "      <th>hair</th>\n",
       "      <th>feathers</th>\n",
       "      <th>eggs</th>\n",
       "      <th>milk</th>\n",
       "      <th>airborne</th>\n",
       "      <th>aquatic</th>\n",
       "      <th>predator</th>\n",
       "      <th>toothed</th>\n",
       "      <th>backbone</th>\n",
       "      <th>breathes</th>\n",
       "      <th>venomous</th>\n",
       "      <th>fins</th>\n",
       "      <th>legs</th>\n",
       "      <th>tail</th>\n",
       "      <th>domestic</th>\n",
       "      <th>catsize</th>\n",
       "      <th>type</th>\n",
       "    </tr>\n",
       "  </thead>\n",
       "  <tbody>\n",
       "    <tr>\n",
       "      <th>0</th>\n",
       "      <td>0</td>\n",
       "      <td>1</td>\n",
       "      <td>0</td>\n",
       "      <td>0</td>\n",
       "      <td>1</td>\n",
       "      <td>0</td>\n",
       "      <td>0</td>\n",
       "      <td>1</td>\n",
       "      <td>1</td>\n",
       "      <td>1</td>\n",
       "      <td>1</td>\n",
       "      <td>0</td>\n",
       "      <td>0</td>\n",
       "      <td>4</td>\n",
       "      <td>0</td>\n",
       "      <td>0</td>\n",
       "      <td>1</td>\n",
       "      <td>1</td>\n",
       "    </tr>\n",
       "    <tr>\n",
       "      <th>1</th>\n",
       "      <td>1</td>\n",
       "      <td>1</td>\n",
       "      <td>0</td>\n",
       "      <td>0</td>\n",
       "      <td>1</td>\n",
       "      <td>0</td>\n",
       "      <td>0</td>\n",
       "      <td>0</td>\n",
       "      <td>1</td>\n",
       "      <td>1</td>\n",
       "      <td>1</td>\n",
       "      <td>0</td>\n",
       "      <td>0</td>\n",
       "      <td>4</td>\n",
       "      <td>1</td>\n",
       "      <td>0</td>\n",
       "      <td>1</td>\n",
       "      <td>1</td>\n",
       "    </tr>\n",
       "    <tr>\n",
       "      <th>2</th>\n",
       "      <td>2</td>\n",
       "      <td>0</td>\n",
       "      <td>0</td>\n",
       "      <td>1</td>\n",
       "      <td>0</td>\n",
       "      <td>0</td>\n",
       "      <td>1</td>\n",
       "      <td>1</td>\n",
       "      <td>1</td>\n",
       "      <td>1</td>\n",
       "      <td>0</td>\n",
       "      <td>0</td>\n",
       "      <td>1</td>\n",
       "      <td>0</td>\n",
       "      <td>1</td>\n",
       "      <td>0</td>\n",
       "      <td>0</td>\n",
       "      <td>4</td>\n",
       "    </tr>\n",
       "    <tr>\n",
       "      <th>3</th>\n",
       "      <td>3</td>\n",
       "      <td>1</td>\n",
       "      <td>0</td>\n",
       "      <td>0</td>\n",
       "      <td>1</td>\n",
       "      <td>0</td>\n",
       "      <td>0</td>\n",
       "      <td>1</td>\n",
       "      <td>1</td>\n",
       "      <td>1</td>\n",
       "      <td>1</td>\n",
       "      <td>0</td>\n",
       "      <td>0</td>\n",
       "      <td>4</td>\n",
       "      <td>0</td>\n",
       "      <td>0</td>\n",
       "      <td>1</td>\n",
       "      <td>1</td>\n",
       "    </tr>\n",
       "    <tr>\n",
       "      <th>4</th>\n",
       "      <td>4</td>\n",
       "      <td>1</td>\n",
       "      <td>0</td>\n",
       "      <td>0</td>\n",
       "      <td>1</td>\n",
       "      <td>0</td>\n",
       "      <td>0</td>\n",
       "      <td>1</td>\n",
       "      <td>1</td>\n",
       "      <td>1</td>\n",
       "      <td>1</td>\n",
       "      <td>0</td>\n",
       "      <td>0</td>\n",
       "      <td>4</td>\n",
       "      <td>1</td>\n",
       "      <td>0</td>\n",
       "      <td>1</td>\n",
       "      <td>1</td>\n",
       "    </tr>\n",
       "    <tr>\n",
       "      <th>5</th>\n",
       "      <td>5</td>\n",
       "      <td>1</td>\n",
       "      <td>0</td>\n",
       "      <td>0</td>\n",
       "      <td>1</td>\n",
       "      <td>0</td>\n",
       "      <td>0</td>\n",
       "      <td>0</td>\n",
       "      <td>1</td>\n",
       "      <td>1</td>\n",
       "      <td>1</td>\n",
       "      <td>0</td>\n",
       "      <td>0</td>\n",
       "      <td>4</td>\n",
       "      <td>1</td>\n",
       "      <td>0</td>\n",
       "      <td>1</td>\n",
       "      <td>1</td>\n",
       "    </tr>\n",
       "    <tr>\n",
       "      <th>6</th>\n",
       "      <td>6</td>\n",
       "      <td>1</td>\n",
       "      <td>0</td>\n",
       "      <td>0</td>\n",
       "      <td>1</td>\n",
       "      <td>0</td>\n",
       "      <td>0</td>\n",
       "      <td>0</td>\n",
       "      <td>1</td>\n",
       "      <td>1</td>\n",
       "      <td>1</td>\n",
       "      <td>0</td>\n",
       "      <td>0</td>\n",
       "      <td>4</td>\n",
       "      <td>1</td>\n",
       "      <td>1</td>\n",
       "      <td>1</td>\n",
       "      <td>1</td>\n",
       "    </tr>\n",
       "    <tr>\n",
       "      <th>7</th>\n",
       "      <td>7</td>\n",
       "      <td>0</td>\n",
       "      <td>0</td>\n",
       "      <td>1</td>\n",
       "      <td>0</td>\n",
       "      <td>0</td>\n",
       "      <td>1</td>\n",
       "      <td>0</td>\n",
       "      <td>1</td>\n",
       "      <td>1</td>\n",
       "      <td>0</td>\n",
       "      <td>0</td>\n",
       "      <td>1</td>\n",
       "      <td>0</td>\n",
       "      <td>1</td>\n",
       "      <td>1</td>\n",
       "      <td>0</td>\n",
       "      <td>4</td>\n",
       "    </tr>\n",
       "    <tr>\n",
       "      <th>8</th>\n",
       "      <td>8</td>\n",
       "      <td>0</td>\n",
       "      <td>0</td>\n",
       "      <td>1</td>\n",
       "      <td>0</td>\n",
       "      <td>0</td>\n",
       "      <td>1</td>\n",
       "      <td>1</td>\n",
       "      <td>1</td>\n",
       "      <td>1</td>\n",
       "      <td>0</td>\n",
       "      <td>0</td>\n",
       "      <td>1</td>\n",
       "      <td>0</td>\n",
       "      <td>1</td>\n",
       "      <td>0</td>\n",
       "      <td>0</td>\n",
       "      <td>4</td>\n",
       "    </tr>\n",
       "    <tr>\n",
       "      <th>9</th>\n",
       "      <td>9</td>\n",
       "      <td>1</td>\n",
       "      <td>0</td>\n",
       "      <td>0</td>\n",
       "      <td>1</td>\n",
       "      <td>0</td>\n",
       "      <td>0</td>\n",
       "      <td>0</td>\n",
       "      <td>1</td>\n",
       "      <td>1</td>\n",
       "      <td>1</td>\n",
       "      <td>0</td>\n",
       "      <td>0</td>\n",
       "      <td>4</td>\n",
       "      <td>0</td>\n",
       "      <td>1</td>\n",
       "      <td>0</td>\n",
       "      <td>1</td>\n",
       "    </tr>\n",
       "    <tr>\n",
       "      <th>10</th>\n",
       "      <td>10</td>\n",
       "      <td>1</td>\n",
       "      <td>0</td>\n",
       "      <td>0</td>\n",
       "      <td>1</td>\n",
       "      <td>0</td>\n",
       "      <td>0</td>\n",
       "      <td>1</td>\n",
       "      <td>1</td>\n",
       "      <td>1</td>\n",
       "      <td>1</td>\n",
       "      <td>0</td>\n",
       "      <td>0</td>\n",
       "      <td>4</td>\n",
       "      <td>1</td>\n",
       "      <td>0</td>\n",
       "      <td>1</td>\n",
       "      <td>1</td>\n",
       "    </tr>\n",
       "    <tr>\n",
       "      <th>11</th>\n",
       "      <td>11</td>\n",
       "      <td>0</td>\n",
       "      <td>1</td>\n",
       "      <td>1</td>\n",
       "      <td>0</td>\n",
       "      <td>1</td>\n",
       "      <td>0</td>\n",
       "      <td>0</td>\n",
       "      <td>0</td>\n",
       "      <td>1</td>\n",
       "      <td>1</td>\n",
       "      <td>0</td>\n",
       "      <td>0</td>\n",
       "      <td>2</td>\n",
       "      <td>1</td>\n",
       "      <td>1</td>\n",
       "      <td>0</td>\n",
       "      <td>2</td>\n",
       "    </tr>\n",
       "    <tr>\n",
       "      <th>12</th>\n",
       "      <td>12</td>\n",
       "      <td>0</td>\n",
       "      <td>0</td>\n",
       "      <td>1</td>\n",
       "      <td>0</td>\n",
       "      <td>0</td>\n",
       "      <td>1</td>\n",
       "      <td>1</td>\n",
       "      <td>1</td>\n",
       "      <td>1</td>\n",
       "      <td>0</td>\n",
       "      <td>0</td>\n",
       "      <td>1</td>\n",
       "      <td>0</td>\n",
       "      <td>1</td>\n",
       "      <td>0</td>\n",
       "      <td>0</td>\n",
       "      <td>4</td>\n",
       "    </tr>\n",
       "    <tr>\n",
       "      <th>13</th>\n",
       "      <td>13</td>\n",
       "      <td>0</td>\n",
       "      <td>0</td>\n",
       "      <td>1</td>\n",
       "      <td>0</td>\n",
       "      <td>0</td>\n",
       "      <td>0</td>\n",
       "      <td>1</td>\n",
       "      <td>0</td>\n",
       "      <td>0</td>\n",
       "      <td>0</td>\n",
       "      <td>0</td>\n",
       "      <td>0</td>\n",
       "      <td>0</td>\n",
       "      <td>0</td>\n",
       "      <td>0</td>\n",
       "      <td>0</td>\n",
       "      <td>7</td>\n",
       "    </tr>\n",
       "    <tr>\n",
       "      <th>14</th>\n",
       "      <td>14</td>\n",
       "      <td>0</td>\n",
       "      <td>0</td>\n",
       "      <td>1</td>\n",
       "      <td>0</td>\n",
       "      <td>0</td>\n",
       "      <td>1</td>\n",
       "      <td>1</td>\n",
       "      <td>0</td>\n",
       "      <td>0</td>\n",
       "      <td>0</td>\n",
       "      <td>0</td>\n",
       "      <td>0</td>\n",
       "      <td>4</td>\n",
       "      <td>0</td>\n",
       "      <td>0</td>\n",
       "      <td>0</td>\n",
       "      <td>7</td>\n",
       "    </tr>\n",
       "    <tr>\n",
       "      <th>15</th>\n",
       "      <td>15</td>\n",
       "      <td>0</td>\n",
       "      <td>0</td>\n",
       "      <td>1</td>\n",
       "      <td>0</td>\n",
       "      <td>0</td>\n",
       "      <td>1</td>\n",
       "      <td>1</td>\n",
       "      <td>0</td>\n",
       "      <td>0</td>\n",
       "      <td>0</td>\n",
       "      <td>0</td>\n",
       "      <td>0</td>\n",
       "      <td>6</td>\n",
       "      <td>0</td>\n",
       "      <td>0</td>\n",
       "      <td>0</td>\n",
       "      <td>7</td>\n",
       "    </tr>\n",
       "    <tr>\n",
       "      <th>16</th>\n",
       "      <td>16</td>\n",
       "      <td>0</td>\n",
       "      <td>1</td>\n",
       "      <td>1</td>\n",
       "      <td>0</td>\n",
       "      <td>1</td>\n",
       "      <td>0</td>\n",
       "      <td>1</td>\n",
       "      <td>0</td>\n",
       "      <td>1</td>\n",
       "      <td>1</td>\n",
       "      <td>0</td>\n",
       "      <td>0</td>\n",
       "      <td>2</td>\n",
       "      <td>1</td>\n",
       "      <td>0</td>\n",
       "      <td>0</td>\n",
       "      <td>2</td>\n",
       "    </tr>\n",
       "    <tr>\n",
       "      <th>17</th>\n",
       "      <td>17</td>\n",
       "      <td>1</td>\n",
       "      <td>0</td>\n",
       "      <td>0</td>\n",
       "      <td>1</td>\n",
       "      <td>0</td>\n",
       "      <td>0</td>\n",
       "      <td>0</td>\n",
       "      <td>1</td>\n",
       "      <td>1</td>\n",
       "      <td>1</td>\n",
       "      <td>0</td>\n",
       "      <td>0</td>\n",
       "      <td>4</td>\n",
       "      <td>1</td>\n",
       "      <td>0</td>\n",
       "      <td>1</td>\n",
       "      <td>1</td>\n",
       "    </tr>\n",
       "    <tr>\n",
       "      <th>18</th>\n",
       "      <td>18</td>\n",
       "      <td>0</td>\n",
       "      <td>0</td>\n",
       "      <td>1</td>\n",
       "      <td>0</td>\n",
       "      <td>0</td>\n",
       "      <td>1</td>\n",
       "      <td>1</td>\n",
       "      <td>1</td>\n",
       "      <td>1</td>\n",
       "      <td>0</td>\n",
       "      <td>0</td>\n",
       "      <td>1</td>\n",
       "      <td>0</td>\n",
       "      <td>1</td>\n",
       "      <td>0</td>\n",
       "      <td>1</td>\n",
       "      <td>4</td>\n",
       "    </tr>\n",
       "    <tr>\n",
       "      <th>19</th>\n",
       "      <td>19</td>\n",
       "      <td>0</td>\n",
       "      <td>0</td>\n",
       "      <td>0</td>\n",
       "      <td>1</td>\n",
       "      <td>0</td>\n",
       "      <td>1</td>\n",
       "      <td>1</td>\n",
       "      <td>1</td>\n",
       "      <td>1</td>\n",
       "      <td>1</td>\n",
       "      <td>0</td>\n",
       "      <td>1</td>\n",
       "      <td>0</td>\n",
       "      <td>1</td>\n",
       "      <td>0</td>\n",
       "      <td>1</td>\n",
       "      <td>1</td>\n",
       "    </tr>\n",
       "  </tbody>\n",
       "</table>\n",
       "</div>"
      ],
      "text/plain": [
       "    animal name  hair  feathers  eggs  milk  airborne  aquatic  predator  \\\n",
       "0             0     1         0     0     1         0        0         1   \n",
       "1             1     1         0     0     1         0        0         0   \n",
       "2             2     0         0     1     0         0        1         1   \n",
       "3             3     1         0     0     1         0        0         1   \n",
       "4             4     1         0     0     1         0        0         1   \n",
       "5             5     1         0     0     1         0        0         0   \n",
       "6             6     1         0     0     1         0        0         0   \n",
       "7             7     0         0     1     0         0        1         0   \n",
       "8             8     0         0     1     0         0        1         1   \n",
       "9             9     1         0     0     1         0        0         0   \n",
       "10           10     1         0     0     1         0        0         1   \n",
       "11           11     0         1     1     0         1        0         0   \n",
       "12           12     0         0     1     0         0        1         1   \n",
       "13           13     0         0     1     0         0        0         1   \n",
       "14           14     0         0     1     0         0        1         1   \n",
       "15           15     0         0     1     0         0        1         1   \n",
       "16           16     0         1     1     0         1        0         1   \n",
       "17           17     1         0     0     1         0        0         0   \n",
       "18           18     0         0     1     0         0        1         1   \n",
       "19           19     0         0     0     1         0        1         1   \n",
       "\n",
       "    toothed  backbone  breathes  venomous  fins  legs  tail  domestic  \\\n",
       "0         1         1         1         0     0     4     0         0   \n",
       "1         1         1         1         0     0     4     1         0   \n",
       "2         1         1         0         0     1     0     1         0   \n",
       "3         1         1         1         0     0     4     0         0   \n",
       "4         1         1         1         0     0     4     1         0   \n",
       "5         1         1         1         0     0     4     1         0   \n",
       "6         1         1         1         0     0     4     1         1   \n",
       "7         1         1         0         0     1     0     1         1   \n",
       "8         1         1         0         0     1     0     1         0   \n",
       "9         1         1         1         0     0     4     0         1   \n",
       "10        1         1         1         0     0     4     1         0   \n",
       "11        0         1         1         0     0     2     1         1   \n",
       "12        1         1         0         0     1     0     1         0   \n",
       "13        0         0         0         0     0     0     0         0   \n",
       "14        0         0         0         0     0     4     0         0   \n",
       "15        0         0         0         0     0     6     0         0   \n",
       "16        0         1         1         0     0     2     1         0   \n",
       "17        1         1         1         0     0     4     1         0   \n",
       "18        1         1         0         0     1     0     1         0   \n",
       "19        1         1         1         0     1     0     1         0   \n",
       "\n",
       "    catsize  type  \n",
       "0         1     1  \n",
       "1         1     1  \n",
       "2         0     4  \n",
       "3         1     1  \n",
       "4         1     1  \n",
       "5         1     1  \n",
       "6         1     1  \n",
       "7         0     4  \n",
       "8         0     4  \n",
       "9         0     1  \n",
       "10        1     1  \n",
       "11        0     2  \n",
       "12        0     4  \n",
       "13        0     7  \n",
       "14        0     7  \n",
       "15        0     7  \n",
       "16        0     2  \n",
       "17        1     1  \n",
       "18        1     4  \n",
       "19        1     1  "
      ]
     },
     "execution_count": 14,
     "metadata": {},
     "output_type": "execute_result"
    }
   ],
   "source": [
    "data.head(20)  # display top 20 rows"
   ]
  },
  {
   "cell_type": "markdown",
   "id": "0bc40aec",
   "metadata": {},
   "source": [
    "column animal name is simply showing numerical values in ascending order. So, let's drop this column"
   ]
  },
  {
   "cell_type": "code",
   "execution_count": 15,
   "id": "8e6d6510",
   "metadata": {},
   "outputs": [],
   "source": [
    "data = data.drop(['animal name'], axis=1)  # drop animal name column"
   ]
  },
  {
   "cell_type": "code",
   "execution_count": 16,
   "id": "e8d22297",
   "metadata": {},
   "outputs": [
    {
     "data": {
      "text/html": [
       "<div>\n",
       "<style scoped>\n",
       "    .dataframe tbody tr th:only-of-type {\n",
       "        vertical-align: middle;\n",
       "    }\n",
       "\n",
       "    .dataframe tbody tr th {\n",
       "        vertical-align: top;\n",
       "    }\n",
       "\n",
       "    .dataframe thead th {\n",
       "        text-align: right;\n",
       "    }\n",
       "</style>\n",
       "<table border=\"1\" class=\"dataframe\">\n",
       "  <thead>\n",
       "    <tr style=\"text-align: right;\">\n",
       "      <th></th>\n",
       "      <th>hair</th>\n",
       "      <th>feathers</th>\n",
       "      <th>eggs</th>\n",
       "      <th>milk</th>\n",
       "      <th>airborne</th>\n",
       "      <th>aquatic</th>\n",
       "      <th>predator</th>\n",
       "      <th>toothed</th>\n",
       "      <th>backbone</th>\n",
       "      <th>breathes</th>\n",
       "      <th>venomous</th>\n",
       "      <th>fins</th>\n",
       "      <th>legs</th>\n",
       "      <th>tail</th>\n",
       "      <th>domestic</th>\n",
       "      <th>catsize</th>\n",
       "      <th>type</th>\n",
       "    </tr>\n",
       "  </thead>\n",
       "  <tbody>\n",
       "    <tr>\n",
       "      <th>0</th>\n",
       "      <td>1</td>\n",
       "      <td>0</td>\n",
       "      <td>0</td>\n",
       "      <td>1</td>\n",
       "      <td>0</td>\n",
       "      <td>0</td>\n",
       "      <td>1</td>\n",
       "      <td>1</td>\n",
       "      <td>1</td>\n",
       "      <td>1</td>\n",
       "      <td>0</td>\n",
       "      <td>0</td>\n",
       "      <td>4</td>\n",
       "      <td>0</td>\n",
       "      <td>0</td>\n",
       "      <td>1</td>\n",
       "      <td>1</td>\n",
       "    </tr>\n",
       "    <tr>\n",
       "      <th>1</th>\n",
       "      <td>1</td>\n",
       "      <td>0</td>\n",
       "      <td>0</td>\n",
       "      <td>1</td>\n",
       "      <td>0</td>\n",
       "      <td>0</td>\n",
       "      <td>0</td>\n",
       "      <td>1</td>\n",
       "      <td>1</td>\n",
       "      <td>1</td>\n",
       "      <td>0</td>\n",
       "      <td>0</td>\n",
       "      <td>4</td>\n",
       "      <td>1</td>\n",
       "      <td>0</td>\n",
       "      <td>1</td>\n",
       "      <td>1</td>\n",
       "    </tr>\n",
       "    <tr>\n",
       "      <th>2</th>\n",
       "      <td>0</td>\n",
       "      <td>0</td>\n",
       "      <td>1</td>\n",
       "      <td>0</td>\n",
       "      <td>0</td>\n",
       "      <td>1</td>\n",
       "      <td>1</td>\n",
       "      <td>1</td>\n",
       "      <td>1</td>\n",
       "      <td>0</td>\n",
       "      <td>0</td>\n",
       "      <td>1</td>\n",
       "      <td>0</td>\n",
       "      <td>1</td>\n",
       "      <td>0</td>\n",
       "      <td>0</td>\n",
       "      <td>4</td>\n",
       "    </tr>\n",
       "    <tr>\n",
       "      <th>3</th>\n",
       "      <td>1</td>\n",
       "      <td>0</td>\n",
       "      <td>0</td>\n",
       "      <td>1</td>\n",
       "      <td>0</td>\n",
       "      <td>0</td>\n",
       "      <td>1</td>\n",
       "      <td>1</td>\n",
       "      <td>1</td>\n",
       "      <td>1</td>\n",
       "      <td>0</td>\n",
       "      <td>0</td>\n",
       "      <td>4</td>\n",
       "      <td>0</td>\n",
       "      <td>0</td>\n",
       "      <td>1</td>\n",
       "      <td>1</td>\n",
       "    </tr>\n",
       "    <tr>\n",
       "      <th>4</th>\n",
       "      <td>1</td>\n",
       "      <td>0</td>\n",
       "      <td>0</td>\n",
       "      <td>1</td>\n",
       "      <td>0</td>\n",
       "      <td>0</td>\n",
       "      <td>1</td>\n",
       "      <td>1</td>\n",
       "      <td>1</td>\n",
       "      <td>1</td>\n",
       "      <td>0</td>\n",
       "      <td>0</td>\n",
       "      <td>4</td>\n",
       "      <td>1</td>\n",
       "      <td>0</td>\n",
       "      <td>1</td>\n",
       "      <td>1</td>\n",
       "    </tr>\n",
       "  </tbody>\n",
       "</table>\n",
       "</div>"
      ],
      "text/plain": [
       "   hair  feathers  eggs  milk  airborne  aquatic  predator  toothed  backbone  \\\n",
       "0     1         0     0     1         0        0         1        1         1   \n",
       "1     1         0     0     1         0        0         0        1         1   \n",
       "2     0         0     1     0         0        1         1        1         1   \n",
       "3     1         0     0     1         0        0         1        1         1   \n",
       "4     1         0     0     1         0        0         1        1         1   \n",
       "\n",
       "   breathes  venomous  fins  legs  tail  domestic  catsize  type  \n",
       "0         1         0     0     4     0         0        1     1  \n",
       "1         1         0     0     4     1         0        1     1  \n",
       "2         0         0     1     0     1         0        0     4  \n",
       "3         1         0     0     4     0         0        1     1  \n",
       "4         1         0     0     4     1         0        1     1  "
      ]
     },
     "execution_count": 16,
     "metadata": {},
     "output_type": "execute_result"
    }
   ],
   "source": [
    "data.head()"
   ]
  },
  {
   "cell_type": "code",
   "execution_count": 17,
   "id": "58047987",
   "metadata": {},
   "outputs": [
    {
     "data": {
      "text/plain": [
       "(101, 17)"
      ]
     },
     "execution_count": 17,
     "metadata": {},
     "output_type": "execute_result"
    }
   ],
   "source": [
    "data.shape"
   ]
  },
  {
   "cell_type": "markdown",
   "id": "f6d7850c",
   "metadata": {},
   "source": [
    "# Let's check the outliers"
   ]
  },
  {
   "cell_type": "code",
   "execution_count": 18,
   "id": "622a9320",
   "metadata": {},
   "outputs": [],
   "source": [
    "import matplotlib.pyplot as plt"
   ]
  },
  {
   "cell_type": "code",
   "execution_count": 19,
   "id": "d758b97c",
   "metadata": {},
   "outputs": [
    {
     "data": {
      "image/png": "[encoded data removed]",
      "text/plain": [
       "<Figure size 640x480 with 1 Axes>"
      ]
     },
     "metadata": {},
     "output_type": "display_data"
    }
   ],
   "source": [
    "plt.boxplot(data['hair'])  # plot boxplot of hair column\n",
    "plt.show()"
   ]
  },
  {
   "cell_type": "markdown",
   "id": "3a2a37ff",
   "metadata": {},
   "source": [
    "hair: there is no outlier in the dataset which means there is no skewness i.e. data is normally distributed"
   ]
  },
  {
   "cell_type": "code",
   "execution_count": 20,
   "id": "e8bba01a",
   "metadata": {},
   "outputs": [
    {
     "data": {
      "image/png": "[encoded data removed]",
      "text/plain": [
       "<Figure size 640x480 with 1 Axes>"
      ]
     },
     "metadata": {},
     "output_type": "display_data"
    }
   ],
   "source": [
    "plt.boxplot(data['feathers'])  # plot boxplot of feathers column\n",
    "plt.show()"
   ]
  },
  {
   "cell_type": "markdown",
   "id": "2241cab5",
   "metadata": {},
   "source": [
    "feathers: Some animals can have feathers denoted by 1 (they are actually birds) and some animals can't have feathers denoted by 0. Therefore, value at 1.0 can not be considered as outlier. (Normally distributed data)"
   ]
  },
  {
   "cell_type": "code",
   "execution_count": 21,
   "id": "45f84bfc",
   "metadata": {},
   "outputs": [
    {
     "data": {
      "image/png": "[encoded data removed]",
      "text/plain": [
       "<Figure size 640x480 with 1 Axes>"
      ]
     },
     "metadata": {},
     "output_type": "display_data"
    }
   ],
   "source": [
    "plt.boxplot(data['eggs'])  # plot boxplot of eggs column\n",
    "plt.show()"
   ]
  },
  {
   "cell_type": "markdown",
   "id": "97b86fcd",
   "metadata": {},
   "source": [
    "eggs: there is no outlier in the data set i.e. data is normally distributed"
   ]
  },
  {
   "cell_type": "code",
   "execution_count": 22,
   "id": "f8b5f9ba",
   "metadata": {},
   "outputs": [
    {
     "data": {
      "image/png": "[encoded data removed]",
      "text/plain": [
       "<Figure size 640x480 with 1 Axes>"
      ]
     },
     "metadata": {},
     "output_type": "display_data"
    }
   ],
   "source": [
    "plt.boxplot(data['milk'])  # plot boxplot of milk column\n",
    "plt.show()"
   ]
  },
  {
   "cell_type": "markdown",
   "id": "8cc618f7",
   "metadata": {},
   "source": [
    "milk: there is no outlier in the data set i.e. data is normally distributed."
   ]
  },
  {
   "cell_type": "code",
   "execution_count": 23,
   "id": "2633d0d5",
   "metadata": {},
   "outputs": [
    {
     "data": {
      "image/png": "[encoded data removed]",
      "text/plain": [
       "<Figure size 640x480 with 1 Axes>"
      ]
     },
     "metadata": {},
     "output_type": "display_data"
    }
   ],
   "source": [
    "plt.boxplot(data['airborne'])  # plot boxplot of airborne column\n",
    "plt.show()"
   ]
  },
  {
   "cell_type": "markdown",
   "id": "443569cc",
   "metadata": {},
   "source": [
    "airborne: Some animals transported by air (they are actually birds) denoted by 1 and some animals don't transported by air denoted by 0 . Therefore, value at 1.0 can not be considered as outlier. (Normally distributed data)"
   ]
  },
  {
   "cell_type": "code",
   "execution_count": 24,
   "id": "3c6db081",
   "metadata": {},
   "outputs": [
    {
     "data": {
      "image/png": "[encoded data removed]",
      "text/plain": [
       "<Figure size 640x480 with 1 Axes>"
      ]
     },
     "metadata": {},
     "output_type": "display_data"
    }
   ],
   "source": [
    "plt.boxplot(data['aquatic'])  # plot boxplot of aquatic column\n",
    "plt.show()"
   ]
  },
  {
   "cell_type": "markdown",
   "id": "4a4191f4",
   "metadata": {},
   "source": [
    "aquatic: there is no outlier in the data set i.e. data is normally distributed"
   ]
  },
  {
   "cell_type": "code",
   "execution_count": 25,
   "id": "5d89bf82",
   "metadata": {},
   "outputs": [
    {
     "data": {
      "image/png": "[encoded data removed]",
      "text/plain": [
       "<Figure size 640x480 with 1 Axes>"
      ]
     },
     "metadata": {},
     "output_type": "display_data"
    }
   ],
   "source": [
    "plt.boxplot(data['predator'])  # plot boxplot of predator column\n",
    "plt.show()"
   ]
  },
  {
   "cell_type": "markdown",
   "id": "fd86af95",
   "metadata": {},
   "source": [
    "predator: there is no outlier in the dataset which means there is no skewness i.e. data is normally distributed"
   ]
  },
  {
   "cell_type": "code",
   "execution_count": 26,
   "id": "fb43a4aa",
   "metadata": {},
   "outputs": [
    {
     "data": {
      "image/png": "[encoded data removed]",
      "text/plain": [
       "<Figure size 640x480 with 1 Axes>"
      ]
     },
     "metadata": {},
     "output_type": "display_data"
    }
   ],
   "source": [
    "plt.boxplot(data['toothed'])  # plot boxplot of toothed column\n",
    "plt.show()"
   ]
  },
  {
   "cell_type": "markdown",
   "id": "6857d2c3",
   "metadata": {},
   "source": [
    "toothed: there is no outlier in the dataset which means there is no skewness i.e. data is normally distributed"
   ]
  },
  {
   "cell_type": "code",
   "execution_count": 27,
   "id": "a89e3eb8",
   "metadata": {},
   "outputs": [
    {
     "data": {
      "image/png": "[encoded data removed]",
      "text/plain": [
       "<Figure size 640x480 with 1 Axes>"
      ]
     },
     "metadata": {},
     "output_type": "display_data"
    }
   ],
   "source": [
    "plt.boxplot(data['backbone'])  # plot boxplot of backbone column\n",
    "plt.show()"
   ]
  },
  {
   "cell_type": "markdown",
   "id": "79e6e8f0",
   "metadata": {},
   "source": [
    "backbone: Some animals don't have backbone (they are invertebrates) denoted by 0 and animals with backbone denoted by 1. Therefore, value at 0.0 can not be considered as outlier. (Normally distributed data)"
   ]
  },
  {
   "cell_type": "code",
   "execution_count": 28,
   "id": "e565ae4f",
   "metadata": {},
   "outputs": [
    {
     "data": {
      "image/png": "[encoded data removed]",
      "text/plain": [
       "<Figure size 640x480 with 1 Axes>"
      ]
     },
     "metadata": {},
     "output_type": "display_data"
    }
   ],
   "source": [
    "plt.boxplot(data['breathes'])  # plot boxplot of breathes column\n",
    "plt.show()"
   ]
  },
  {
   "cell_type": "markdown",
   "id": "4614063c",
   "metadata": {},
   "source": [
    "breathes: Some animals breathe through gills (they are aquatic) denoted by 0 and some animals breathe through nose denoted by 1. Therefore, value at 0.0 can not be considered as outlier. (Normally distributed data)"
   ]
  },
  {
   "cell_type": "code",
   "execution_count": 29,
   "id": "4fef7671",
   "metadata": {},
   "outputs": [
    {
     "data": {
      "image/png": "[encoded data removed]",
      "text/plain": [
       "<Figure size 640x480 with 1 Axes>"
      ]
     },
     "metadata": {},
     "output_type": "display_data"
    }
   ],
   "source": [
    "plt.boxplot(data['venomous'])  # plot boxplot of venomous column\n",
    "plt.show()"
   ]
  },
  {
   "cell_type": "markdown",
   "id": "329ef40d",
   "metadata": {},
   "source": [
    "venomous: Some animals are venomous denoted by 1 and some animals are not venomous denoted by 0 . Therefore, value at 1.0 can not be considered as outlier. (Normally distributed data)"
   ]
  },
  {
   "cell_type": "code",
   "execution_count": 30,
   "id": "e08b385a",
   "metadata": {},
   "outputs": [
    {
     "data": {
      "image/png": "[encoded data removed]",
      "text/plain": [
       "<Figure size 640x480 with 1 Axes>"
      ]
     },
     "metadata": {},
     "output_type": "display_data"
    }
   ],
   "source": [
    "plt.boxplot(data['fins'])  # plot boxplot of fins column\n",
    "plt.show()"
   ]
  },
  {
   "cell_type": "markdown",
   "id": "c9938f92",
   "metadata": {},
   "source": [
    "fins: Some animals have fins (they are aquatic) denoted by 1 and some animals don't have fins denoted by 0 . Therefore, value at 1.0 can not be considered as outlier. (Normally distributed data)"
   ]
  },
  {
   "cell_type": "code",
   "execution_count": 31,
   "id": "f0ad76b2",
   "metadata": {},
   "outputs": [
    {
     "data": {
      "image/png": "[encoded data removed]",
      "text/plain": [
       "<Figure size 640x480 with 1 Axes>"
      ]
     },
     "metadata": {},
     "output_type": "display_data"
    }
   ],
   "source": [
    "plt.boxplot(data['legs'])  # plot boxplot of legs column\n",
    "plt.show()"
   ]
  },
  {
   "cell_type": "markdown",
   "id": "9ca299c8",
   "metadata": {},
   "source": [
    "legs: Scorpion has 8 legs. Therefore, data point at 8 can not be considered as outlier. (Normally distributed data)"
   ]
  },
  {
   "cell_type": "code",
   "execution_count": 32,
   "id": "7b9dd30f",
   "metadata": {},
   "outputs": [
    {
     "data": {
      "image/png": "[encoded data removed]",
      "text/plain": [
       "<Figure size 640x480 with 1 Axes>"
      ]
     },
     "metadata": {},
     "output_type": "display_data"
    }
   ],
   "source": [
    "plt.boxplot(data['tail'])  # plot boxplot of tail column\n",
    "plt.show()"
   ]
  },
  {
   "cell_type": "markdown",
   "id": "20d7a6a8",
   "metadata": {},
   "source": [
    "tail: there is no outlier in the dataset which means there is no skewness i.e. data is normally distributed"
   ]
  },
  {
   "cell_type": "code",
   "execution_count": 33,
   "id": "a9df1b97",
   "metadata": {},
   "outputs": [
    {
     "data": {
      "image/png": "[encoded data removed]",
      "text/plain": [
       "<Figure size 640x480 with 1 Axes>"
      ]
     },
     "metadata": {},
     "output_type": "display_data"
    }
   ],
   "source": [
    "plt.boxplot(data['domestic'])  # plot boxplot of domestic column\n",
    "plt.show()"
   ]
  },
  {
   "cell_type": "markdown",
   "id": "412acd2d",
   "metadata": {},
   "source": [
    "domestic: domestic animals are denoted by 1 and non-domestic animals are denoted by 0. Therefore, value at 1.0 can not be considered as outlier. (Normally distributed data)"
   ]
  },
  {
   "cell_type": "code",
   "execution_count": 34,
   "id": "bf33bfde",
   "metadata": {},
   "outputs": [
    {
     "data": {
      "image/png": "[encoded data removed]",
      "text/plain": [
       "<Figure size 640x480 with 1 Axes>"
      ]
     },
     "metadata": {},
     "output_type": "display_data"
    }
   ],
   "source": [
    "plt.boxplot(data['catsize'])  # plot boxplot of catsize column\n",
    "plt.show()"
   ]
  },
  {
   "cell_type": "markdown",
   "id": "a2531400",
   "metadata": {},
   "source": [
    "catsize:there is no outlier in the dataset which means there is no skewness i.e. data is normally distributed"
   ]
  },
  {
   "cell_type": "code",
   "execution_count": 35,
   "id": "4511931f",
   "metadata": {},
   "outputs": [
    {
     "data": {
      "image/png": "[encoded data removed]",
      "text/plain": [
       "<Figure size 640x480 with 1 Axes>"
      ]
     },
     "metadata": {},
     "output_type": "display_data"
    }
   ],
   "source": [
    "plt.boxplot(data['type'])  # plot boxplot of type column\n",
    "plt.show()"
   ]
  },
  {
   "cell_type": "markdown",
   "id": "19186f48",
   "metadata": {},
   "source": [
    "type:there is no outlier in the dataset which means there is no skewness i.e. data is normally distributed"
   ]
  },
  {
   "cell_type": "markdown",
   "id": "c612077f",
   "metadata": {},
   "source": [
    "# 3. Split the dataset into training and testing sets (80% training, 20% testing)."
   ]
  },
  {
   "cell_type": "markdown",
   "id": "71660bfb",
   "metadata": {},
   "source": [
    "Convert data into X and Y.\n",
    "In our assignment task, it is given that model has to predict the class of animal type. Therefore, type column will be saved in Y variable and rest columns will be saved in X variable"
   ]
  },
  {
   "cell_type": "code",
   "execution_count": 36,
   "id": "e18e05d6",
   "metadata": {},
   "outputs": [
    {
     "data": {
      "text/plain": [
       "Index(['hair', 'feathers', 'eggs', 'milk', 'airborne', 'aquatic', 'predator',\n",
       "       'toothed', 'backbone', 'breathes', 'venomous', 'fins', 'legs', 'tail',\n",
       "       'domestic', 'catsize', 'type'],\n",
       "      dtype='object')"
      ]
     },
     "execution_count": 36,
     "metadata": {},
     "output_type": "execute_result"
    }
   ],
   "source": [
    "data.columns"
   ]
  },
  {
   "cell_type": "code",
   "execution_count": 37,
   "id": "4fbdfd4b",
   "metadata": {},
   "outputs": [],
   "source": [
    "X = data.values[:,:16]   # X denotes columns from hair to catsize\n",
    "Y = data.values[:,-1]    # Y denotes column type"
   ]
  },
  {
   "cell_type": "code",
   "execution_count": 38,
   "id": "d323390e",
   "metadata": {},
   "outputs": [
    {
     "data": {
      "text/plain": [
       "array([[1, 0, 0, ..., 0, 0, 1],\n",
       "       [1, 0, 0, ..., 1, 0, 1],\n",
       "       [0, 0, 1, ..., 1, 0, 0],\n",
       "       ...,\n",
       "       [1, 0, 0, ..., 1, 0, 1],\n",
       "       [0, 0, 1, ..., 0, 0, 0],\n",
       "       [0, 1, 1, ..., 1, 0, 0]], dtype=int64)"
      ]
     },
     "execution_count": 38,
     "metadata": {},
     "output_type": "execute_result"
    }
   ],
   "source": [
    "X"
   ]
  },
  {
   "cell_type": "code",
   "execution_count": 39,
   "id": "d275a559",
   "metadata": {},
   "outputs": [
    {
     "data": {
      "text/plain": [
       "(101, 16)"
      ]
     },
     "execution_count": 39,
     "metadata": {},
     "output_type": "execute_result"
    }
   ],
   "source": [
    "X.shape"
   ]
  },
  {
   "cell_type": "code",
   "execution_count": 40,
   "id": "14129255",
   "metadata": {},
   "outputs": [
    {
     "data": {
      "text/plain": [
       "array([1, 1, 4, 1, 1, 1, 1, 4, 4, 1, 1, 2, 4, 7, 7, 7, 2, 1, 4, 1, 2, 2,\n",
       "       1, 2, 6, 5, 5, 1, 1, 1, 6, 1, 1, 2, 4, 1, 1, 2, 4, 6, 6, 2, 6, 2,\n",
       "       1, 1, 7, 1, 1, 1, 1, 6, 5, 7, 1, 1, 2, 2, 2, 2, 4, 4, 3, 1, 1, 1,\n",
       "       1, 1, 1, 1, 1, 2, 7, 4, 1, 1, 3, 7, 2, 2, 3, 7, 4, 2, 1, 7, 4, 2,\n",
       "       6, 5, 3, 3, 4, 1, 1, 2, 1, 6, 1, 7, 2], dtype=int64)"
      ]
     },
     "execution_count": 40,
     "metadata": {},
     "output_type": "execute_result"
    }
   ],
   "source": [
    "Y"
   ]
  },
  {
   "cell_type": "code",
   "execution_count": 41,
   "id": "b855b6b7",
   "metadata": {},
   "outputs": [
    {
     "data": {
      "text/plain": [
       "(101,)"
      ]
     },
     "execution_count": 41,
     "metadata": {},
     "output_type": "execute_result"
    }
   ],
   "source": [
    "Y.shape"
   ]
  },
  {
   "cell_type": "markdown",
   "id": "6b024535",
   "metadata": {},
   "source": [
    "# split X and Y into 2 parts to get training and testing data.\n",
    "\n",
    "80% training, 20% testing => means parameter test_size = 0.2"
   ]
  },
  {
   "cell_type": "code",
   "execution_count": 42,
   "id": "47e941e4",
   "metadata": {},
   "outputs": [],
   "source": [
    "from sklearn.model_selection import train_test_split # import train_test_split func from model_selection sublib.\n",
    "X_train,X_test,Y_train,Y_test = train_test_split(X,Y,test_size=0.2,random_state=10) # training and testing data (model can randomly take 10 rows at a time)"
   ]
  },
  {
   "cell_type": "code",
   "execution_count": 43,
   "id": "fe629b77",
   "metadata": {},
   "outputs": [
    {
     "data": {
      "text/plain": [
       "array([[0, 0, 1, ..., 1, 0, 0],\n",
       "       [0, 1, 1, ..., 1, 0, 1],\n",
       "       [0, 0, 1, ..., 0, 0, 1],\n",
       "       ...,\n",
       "       [1, 0, 0, ..., 1, 0, 1],\n",
       "       [0, 0, 1, ..., 0, 0, 0],\n",
       "       [1, 0, 0, ..., 0, 1, 0]], dtype=int64)"
      ]
     },
     "execution_count": 43,
     "metadata": {},
     "output_type": "execute_result"
    }
   ],
   "source": [
    "X_train"
   ]
  },
  {
   "cell_type": "code",
   "execution_count": 44,
   "id": "5bdf5c81",
   "metadata": {},
   "outputs": [
    {
     "data": {
      "text/plain": [
       "array([[0, 1, 1, 0, 1, 1, 1, 0, 1, 1, 0, 0, 2, 1, 0, 0],\n",
       "       [1, 0, 1, 1, 0, 1, 1, 0, 1, 1, 0, 0, 4, 1, 0, 1],\n",
       "       [0, 0, 1, 0, 0, 1, 1, 0, 0, 0, 0, 0, 5, 0, 0, 0],\n",
       "       [1, 0, 1, 0, 1, 0, 0, 0, 0, 1, 1, 0, 6, 0, 1, 0],\n",
       "       [0, 0, 1, 0, 0, 1, 1, 1, 1, 0, 0, 1, 0, 1, 0, 0],\n",
       "       [1, 0, 0, 1, 0, 0, 1, 1, 1, 1, 0, 0, 4, 0, 0, 1],\n",
       "       [0, 0, 0, 1, 0, 1, 1, 1, 1, 1, 0, 1, 0, 1, 0, 1],\n",
       "       [0, 0, 0, 1, 0, 1, 1, 1, 1, 1, 0, 1, 0, 1, 0, 1],\n",
       "       [0, 0, 1, 0, 0, 0, 0, 0, 1, 1, 0, 0, 4, 1, 0, 1],\n",
       "       [0, 0, 1, 0, 0, 1, 1, 0, 0, 0, 0, 0, 4, 0, 0, 0],\n",
       "       [0, 1, 1, 0, 1, 0, 0, 0, 1, 1, 0, 0, 2, 1, 0, 0],\n",
       "       [0, 0, 1, 0, 0, 1, 1, 1, 1, 0, 0, 1, 0, 1, 0, 0],\n",
       "       [1, 0, 0, 1, 0, 0, 0, 1, 1, 1, 0, 0, 4, 1, 0, 1],\n",
       "       [0, 0, 1, 0, 1, 0, 1, 0, 0, 1, 0, 0, 6, 0, 0, 0],\n",
       "       [0, 0, 1, 0, 0, 1, 1, 1, 1, 0, 0, 1, 0, 1, 0, 0],\n",
       "       [1, 0, 0, 1, 0, 0, 1, 1, 1, 1, 0, 0, 4, 1, 0, 1],\n",
       "       [0, 0, 1, 0, 0, 1, 1, 1, 1, 1, 1, 0, 4, 0, 0, 0],\n",
       "       [0, 1, 1, 0, 1, 0, 1, 0, 1, 1, 0, 0, 2, 1, 0, 1],\n",
       "       [1, 0, 0, 1, 0, 1, 1, 1, 1, 1, 0, 1, 2, 1, 0, 1],\n",
       "       [0, 0, 1, 0, 0, 1, 0, 1, 1, 0, 0, 1, 0, 1, 0, 0],\n",
       "       [0, 0, 1, 0, 0, 0, 0, 0, 0, 1, 0, 0, 0, 0, 0, 0]], dtype=int64)"
      ]
     },
     "execution_count": 44,
     "metadata": {},
     "output_type": "execute_result"
    }
   ],
   "source": [
    "X_test"
   ]
  },
  {
   "cell_type": "code",
   "execution_count": 45,
   "id": "f92d50c4",
   "metadata": {},
   "outputs": [
    {
     "data": {
      "text/plain": [
       "array([3, 2, 7, 1, 1, 2, 2, 1, 1, 1, 1, 1, 1, 1, 4, 2, 2, 1, 1, 1, 3, 1,\n",
       "       2, 1, 2, 1, 5, 7, 1, 4, 1, 4, 6, 1, 7, 2, 6, 1, 6, 2, 2, 2, 2, 1,\n",
       "       4, 1, 1, 2, 1, 1, 4, 4, 6, 3, 5, 7, 1, 7, 4, 6, 1, 2, 7, 2, 3, 1,\n",
       "       2, 2, 1, 6, 1, 4, 4, 1, 1, 5, 1, 1, 7, 1], dtype=int64)"
      ]
     },
     "execution_count": 45,
     "metadata": {},
     "output_type": "execute_result"
    }
   ],
   "source": [
    "Y_train"
   ]
  },
  {
   "cell_type": "code",
   "execution_count": 46,
   "id": "6073ec53",
   "metadata": {},
   "outputs": [
    {
     "data": {
      "text/plain": [
       "array([2, 1, 7, 6, 4, 1, 1, 1, 3, 7, 2, 4, 1, 6, 4, 1, 5, 2, 1, 4, 7],\n",
       "      dtype=int64)"
      ]
     },
     "execution_count": 46,
     "metadata": {},
     "output_type": "execute_result"
    }
   ],
   "source": [
    "Y_test"
   ]
  },
  {
   "cell_type": "code",
   "execution_count": 47,
   "id": "f2a42c3e",
   "metadata": {},
   "outputs": [
    {
     "name": "stdout",
     "output_type": "stream",
     "text": [
      "(80, 16)\n",
      "(21, 16)\n",
      "(80,)\n",
      "(21,)\n"
     ]
    }
   ],
   "source": [
    "print(X_train.shape)\n",
    "print(X_test.shape)\n",
    "print(Y_train.shape)\n",
    "print(Y_test.shape)"
   ]
  },
  {
   "cell_type": "markdown",
   "id": "eee830be",
   "metadata": {},
   "source": [
    "# 4. Implement the K-Nearest Neighbours algorithm using a machine learning library like scikit-learn On training dataset\n",
    "\n",
    "# 5. Choose an appropriate distance metric and value for K.\n",
    "\n",
    "KNN algorithm which is saved in a function KNeighborsClassifier has two hyperparameters: no. of nearest neighbors and metric. \n",
    "\n",
    "K denotes the no. of nearest neighbors. Suppose we have a dataset having 2 classes (class A and Class B) and  we have a new data point. Assume, this new data point is nearest to 2 data points of class B and 1 data point of class A, then, K will be 3 and this new data point will be considered as the part of class B (majority win concept). \n",
    "\n",
    "The nearest points wrt to new data point is decided by euclidean distance => therefore, we will pass metric = 'euclidean' in KNeighborsClassifier function\n",
    "\n",
    "K ≠ 1 and K ≠ even numbers \n",
    "\n",
    "K = 3,5,7,9...... (from industrial point of view, K = 5 )\n",
    "\n",
    "Mathematically, K = sqrt(length of training data)\n"
   ]
  },
  {
   "cell_type": "code",
   "execution_count": 48,
   "id": "b6b02573",
   "metadata": {},
   "outputs": [],
   "source": [
    "import numpy as np"
   ]
  },
  {
   "cell_type": "code",
   "execution_count": 49,
   "id": "ed8bbfb1",
   "metadata": {},
   "outputs": [],
   "source": [
    "from sklearn.neighbors import KNeighborsClassifier  # import KNeighborsClassifier function from neighbors sublib.\n",
    "model_KNN = KNeighborsClassifier(n_neighbors=int(np.sqrt(len(X_train))),metric='euclidean')  # save this function in a variable model_KNN"
   ]
  },
  {
   "cell_type": "code",
   "execution_count": 50,
   "id": "7057031b",
   "metadata": {},
   "outputs": [
    {
     "data": {
      "text/plain": [
       "KNeighborsClassifier(metric='euclidean', n_neighbors=8)"
      ]
     },
     "execution_count": 50,
     "metadata": {},
     "output_type": "execute_result"
    }
   ],
   "source": [
    "model_KNN   # KNeighborsClassifier func saved in var. model_KNN"
   ]
  },
  {
   "cell_type": "markdown",
   "id": "e3a4a2fe",
   "metadata": {},
   "source": [
    "K = sqrt (80) = 8.94  and its' integer value is 8 "
   ]
  },
  {
   "cell_type": "code",
   "execution_count": 51,
   "id": "10c58f18",
   "metadata": {},
   "outputs": [
    {
     "data": {
      "text/plain": [
       "KNeighborsClassifier(metric='euclidean', n_neighbors=8)"
      ]
     },
     "execution_count": 51,
     "metadata": {},
     "output_type": "execute_result"
    }
   ],
   "source": [
    "model_KNN.fit(X_train,Y_train)  # fit function will train the model"
   ]
  },
  {
   "cell_type": "code",
   "execution_count": 52,
   "id": "c8796e5d",
   "metadata": {},
   "outputs": [],
   "source": [
    "Y_pred = model_KNN.predict(X_test) # predict the class of Y for a given testing data "
   ]
  },
  {
   "cell_type": "code",
   "execution_count": 53,
   "id": "eb43889a",
   "metadata": {},
   "outputs": [
    {
     "data": {
      "text/plain": [
       "array([2, 1, 5, 6, 4, 1, 4, 4, 1, 5, 2, 4, 1, 6, 4, 1, 1, 2, 1, 4, 4],\n",
       "      dtype=int64)"
      ]
     },
     "execution_count": 53,
     "metadata": {},
     "output_type": "execute_result"
    }
   ],
   "source": [
    "Y_pred"
   ]
  },
  {
   "cell_type": "markdown",
   "id": "16b5e131",
   "metadata": {},
   "source": [
    "Here, we predict six class of Y for a given testing data. These are: 1,2,3,4,6,7"
   ]
  },
  {
   "cell_type": "code",
   "execution_count": 54,
   "id": "40b71192",
   "metadata": {},
   "outputs": [
    {
     "name": "stdout",
     "output_type": "stream",
     "text": [
      "[(2, 2), (1, 1), (7, 5), (6, 6), (4, 4), (1, 1), (1, 4), (1, 4), (3, 1), (7, 5), (2, 2), (4, 4), (1, 1), (6, 6), (4, 4), (1, 1), (5, 1), (2, 2), (1, 1), (4, 4), (7, 4)]\n"
     ]
    }
   ],
   "source": [
    "print(list(zip(Y_test,Y_pred))) #compare actual class of Y with predicted class of Y"
   ]
  },
  {
   "cell_type": "markdown",
   "id": "1a04b659",
   "metadata": {},
   "source": [
    "# 6. Evaluate the classifier's performance on the testing set using accuracy, precision, recall, and F1-score metrics."
   ]
  },
  {
   "cell_type": "code",
   "execution_count": 55,
   "id": "8490a1eb",
   "metadata": {},
   "outputs": [
    {
     "name": "stdout",
     "output_type": "stream",
     "text": [
      "[[5 0 0 2 0 0 0]\n",
      " [0 3 0 0 0 0 0]\n",
      " [1 0 0 0 0 0 0]\n",
      " [0 0 0 4 0 0 0]\n",
      " [1 0 0 0 0 0 0]\n",
      " [0 0 0 0 0 2 0]\n",
      " [0 0 0 1 2 0 0]]\n",
      "classification report\n",
      "              precision    recall  f1-score   support\n",
      "\n",
      "           1       0.71      0.71      0.71         7\n",
      "           2       1.00      1.00      1.00         3\n",
      "           3       0.00      0.00      0.00         1\n",
      "           4       0.57      1.00      0.73         4\n",
      "           5       0.00      0.00      0.00         1\n",
      "           6       1.00      1.00      1.00         2\n",
      "           7       0.00      0.00      0.00         3\n",
      "\n",
      "    accuracy                           0.67        21\n",
      "   macro avg       0.47      0.53      0.49        21\n",
      "weighted avg       0.59      0.67      0.61        21\n",
      "\n",
      "accuracy of the model: 0.6666666666666666\n"
     ]
    }
   ],
   "source": [
    "from sklearn.metrics import confusion_matrix, accuracy_score,classification_report # import these functions from metrics sublib.\n",
    "cfm = confusion_matrix(Y_test,Y_pred)  #confusion matrix\n",
    "print(cfm)\n",
    "\n",
    "print('classification report')  # classification report\n",
    "print(classification_report(Y_test,Y_pred))\n",
    "\n",
    "acc = accuracy_score(Y_test,Y_pred)  # accuracy of the model\n",
    "print('accuracy of the model:',acc)"
   ]
  },
  {
   "cell_type": "markdown",
   "id": "fdd4e1a3",
   "metadata": {},
   "source": [
    "Confusion matrix is a matrix which represents the summary of the prediction results on a classification problem.\n",
    "\n",
    "Precision means percentage of True positive predictions among all positive predictions made by the model. It is calculated as the ratio of TP to the sum of TP and false positives (FP).\n",
    "\n",
    "F1 Score is a metric that balances precision and recall. It is calculated as the mean of precision and recall."
   ]
  },
  {
   "cell_type": "markdown",
   "id": "06a813f0",
   "metadata": {},
   "source": [
    "recall is the accuracy of individual class. \n",
    "\n",
    "For class 2, class 4, class 6 => model is 100 % accurate but for class 3, class 5, class 7=> model doesn't predict anything.\n",
    "\n",
    "Let's check is there any biasness in the data: \n",
    "\n",
    "There are 20 entries for class 2, 13 entries for class 4, 8 entries for class 6, 5 entries for class 3 and 4 entries for class 5 => for each class, take 20% rows for testing and 80% rows for training.\n",
    "\n",
    "Let's compare the performance of our model on Class 6 and Class 3:\n",
    "\n",
    "Model is performing very good for Class 6 which is having 8 entries and the model is performing the worst for Class 3 which is having 5 entries. Since, 5 & 8 entries are almost the same which means both classes have almost same amount of training data. So, I can say that there is no biasness in our dataset. \n",
    "\n",
    "So, We can conclude that KNN algorithm does not predict good for multiclassification because for more no. of classes, complexity of KNN algorithm increases and hence, model will tend to do some errors. It means that even though there is no biasness in our dataset but due to these errors, our model is performing very good for one class and performing the worst for another class. \n",
    "\n",
    "\n",
    "\n"
   ]
  },
  {
   "cell_type": "markdown",
   "id": "7b88c86e",
   "metadata": {},
   "source": [
    "# 7. Visualize the decision boundaries of the classifier."
   ]
  },
  {
   "cell_type": "markdown",
   "id": "2ac299eb",
   "metadata": {},
   "source": [
    "decision boundary separates the data points belong to different classes. "
   ]
  },
  {
   "cell_type": "code",
   "execution_count": 56,
   "id": "bb6d3791",
   "metadata": {},
   "outputs": [],
   "source": [
    "import seaborn as sns\n",
    "import matplotlib.pyplot as plt"
   ]
  },
  {
   "cell_type": "code",
   "execution_count": 57,
   "id": "d9269a08",
   "metadata": {},
   "outputs": [
    {
     "data": {
      "text/plain": [
       "array([[1, 0, 0, ..., 0, 0, 1],\n",
       "       [1, 0, 0, ..., 1, 0, 1],\n",
       "       [0, 0, 1, ..., 1, 0, 0],\n",
       "       ...,\n",
       "       [1, 0, 0, ..., 1, 0, 1],\n",
       "       [0, 0, 1, ..., 0, 0, 0],\n",
       "       [0, 1, 1, ..., 1, 0, 0]], dtype=int64)"
      ]
     },
     "execution_count": 57,
     "metadata": {},
     "output_type": "execute_result"
    }
   ],
   "source": [
    "X"
   ]
  },
  {
   "cell_type": "code",
   "execution_count": 58,
   "id": "59be4112",
   "metadata": {},
   "outputs": [
    {
     "data": {
      "text/plain": [
       "array([1, 1, 0, 1, 1, 1, 1, 0, 0, 1, 1, 0, 0, 0, 0, 0, 0, 1, 0, 0, 0, 0,\n",
       "       1, 0, 0, 0, 0, 1, 1, 1, 0, 1, 1, 0, 0, 1, 1, 0, 0, 1, 1, 0, 0, 0,\n",
       "       1, 1, 0, 1, 1, 1, 1, 1, 0, 0, 1, 1, 0, 0, 0, 0, 0, 0, 0, 1, 1, 1,\n",
       "       0, 1, 1, 1, 1, 0, 0, 0, 1, 1, 0, 0, 0, 0, 0, 0, 0, 0, 1, 0, 0, 0,\n",
       "       0, 0, 0, 0, 0, 1, 1, 0, 1, 1, 1, 0, 0], dtype=int64)"
      ]
     },
     "execution_count": 58,
     "metadata": {},
     "output_type": "execute_result"
    }
   ],
   "source": [
    "X[:,0]  # display oth column of X indicates x coordinate of a point "
   ]
  },
  {
   "cell_type": "code",
   "execution_count": 59,
   "id": "a77eeef5",
   "metadata": {},
   "outputs": [
    {
     "data": {
      "text/plain": [
       "array([0, 0, 0, 0, 0, 0, 0, 0, 0, 0, 0, 1, 0, 0, 0, 0, 1, 0, 0, 0, 1, 1,\n",
       "       0, 1, 0, 0, 0, 0, 0, 0, 0, 0, 0, 1, 0, 0, 0, 1, 0, 0, 0, 1, 0, 1,\n",
       "       0, 0, 0, 0, 0, 0, 0, 0, 0, 0, 0, 0, 1, 1, 1, 1, 0, 0, 0, 0, 0, 0,\n",
       "       0, 0, 0, 0, 0, 1, 0, 0, 0, 0, 0, 0, 1, 1, 0, 0, 0, 1, 0, 0, 0, 1,\n",
       "       0, 0, 0, 0, 0, 0, 0, 1, 0, 0, 0, 0, 1], dtype=int64)"
      ]
     },
     "execution_count": 59,
     "metadata": {},
     "output_type": "execute_result"
    }
   ],
   "source": [
    "X[:,1]  # display 1st column of X indiactes y coordinate of a point "
   ]
  },
  {
   "cell_type": "code",
   "execution_count": 60,
   "id": "47ee2538",
   "metadata": {},
   "outputs": [
    {
     "name": "stdout",
     "output_type": "stream",
     "text": [
      "(101,)\n",
      "(101,)\n",
      "(101,)\n",
      "(101, 16)\n"
     ]
    }
   ],
   "source": [
    "print(X[:,0].shape)\n",
    "print(X[:,1].shape)\n",
    "print(Y.shape)\n",
    "print(X.shape)"
   ]
  },
  {
   "cell_type": "code",
   "execution_count": 61,
   "id": "27fafb01",
   "metadata": {},
   "outputs": [
    {
     "data": {
      "text/plain": [
       "<matplotlib.collections.PathCollection at 0x23ca86ef880>"
      ]
     },
     "execution_count": 61,
     "metadata": {},
     "output_type": "execute_result"
    },
    {
     "data": {
      "image/png": "[encoded data removed]",
      "text/plain": [
       "<Figure size 640x480 with 1 Axes>"
      ]
     },
     "metadata": {},
     "output_type": "display_data"
    }
   ],
   "source": [
    "plt.scatter(X[:,0],X[:,1],c=Y,cmap= plt.cm.RdYlBu)   # plot scatterplot, c=Y means color of animal type at some point, cmap indicates entire range of available colors "
   ]
  },
  {
   "cell_type": "code",
   "execution_count": 62,
   "id": "b41cbcdd",
   "metadata": {},
   "outputs": [
    {
     "name": "stdout",
     "output_type": "stream",
     "text": [
      "0\n",
      "1\n",
      "0\n",
      "1\n"
     ]
    }
   ],
   "source": [
    "print(X[:,0].min())  # min value of x coordinate of a point\n",
    "print(X[:,0].max())  # max value of x coordinate of a point\n",
    "\n",
    "print(X[:,1].min())   # min value of y coordinate of a point\n",
    "print(X[:,1].max())   # max value of y coordinate of a point"
   ]
  },
  {
   "cell_type": "code",
   "execution_count": 63,
   "id": "9123e69a",
   "metadata": {},
   "outputs": [],
   "source": [
    "x_min,x_max = X[:,0].min()-0.1, X[:,0].max()+0.1  # min value of x coordinate with padding, max value of x coordinate with padding\n",
    "\n",
    "y_min,y_max = X[:,1].min()-0.1, X[:,1].max()+0.1 # min value of y coordinate with padding, max value of y coordinate with padding "
   ]
  },
  {
   "cell_type": "markdown",
   "id": "87df56bb",
   "metadata": {},
   "source": [
    "padding is the space between border and data in a rectangle. Padding ensure that the data does not flush against the border of rectangle. Here, 0.1 is padding value "
   ]
  },
  {
   "cell_type": "code",
   "execution_count": 64,
   "id": "8fc0c6d6",
   "metadata": {},
   "outputs": [
    {
     "name": "stdout",
     "output_type": "stream",
     "text": [
      "-0.1\n",
      "1.1\n",
      "-0.1\n",
      "1.1\n"
     ]
    }
   ],
   "source": [
    "print(x_min)\n",
    "print(x_max)\n",
    "\n",
    "print(y_min)\n",
    "print(y_max)\n"
   ]
  },
  {
   "cell_type": "code",
   "execution_count": 65,
   "id": "2b165d01",
   "metadata": {},
   "outputs": [],
   "source": [
    "xx, yy = np.meshgrid(np.linspace(x_min,x_max,100), np.linspace(y_min,y_max,100)) #100 data points between x_min to x_max, 100 data points between y_min to y_max"
   ]
  },
  {
   "cell_type": "code",
   "execution_count": 66,
   "id": "1aa364e1",
   "metadata": {},
   "outputs": [
    {
     "data": {
      "text/plain": [
       "array([[-0.1       , -0.08787879, -0.07575758, ...,  1.07575758,\n",
       "         1.08787879,  1.1       ],\n",
       "       [-0.1       , -0.08787879, -0.07575758, ...,  1.07575758,\n",
       "         1.08787879,  1.1       ],\n",
       "       [-0.1       , -0.08787879, -0.07575758, ...,  1.07575758,\n",
       "         1.08787879,  1.1       ],\n",
       "       ...,\n",
       "       [-0.1       , -0.08787879, -0.07575758, ...,  1.07575758,\n",
       "         1.08787879,  1.1       ],\n",
       "       [-0.1       , -0.08787879, -0.07575758, ...,  1.07575758,\n",
       "         1.08787879,  1.1       ],\n",
       "       [-0.1       , -0.08787879, -0.07575758, ...,  1.07575758,\n",
       "         1.08787879,  1.1       ]])"
      ]
     },
     "execution_count": 66,
     "metadata": {},
     "output_type": "execute_result"
    }
   ],
   "source": [
    "xx #(50 x 50) data points between x_min to x_max saved in var xx"
   ]
  },
  {
   "cell_type": "code",
   "execution_count": 67,
   "id": "9ce75c18",
   "metadata": {},
   "outputs": [
    {
     "data": {
      "text/plain": [
       "array([[-0.1       , -0.1       , -0.1       , ..., -0.1       ,\n",
       "        -0.1       , -0.1       ],\n",
       "       [-0.08787879, -0.08787879, -0.08787879, ..., -0.08787879,\n",
       "        -0.08787879, -0.08787879],\n",
       "       [-0.07575758, -0.07575758, -0.07575758, ..., -0.07575758,\n",
       "        -0.07575758, -0.07575758],\n",
       "       ...,\n",
       "       [ 1.07575758,  1.07575758,  1.07575758, ...,  1.07575758,\n",
       "         1.07575758,  1.07575758],\n",
       "       [ 1.08787879,  1.08787879,  1.08787879, ...,  1.08787879,\n",
       "         1.08787879,  1.08787879],\n",
       "       [ 1.1       ,  1.1       ,  1.1       , ...,  1.1       ,\n",
       "         1.1       ,  1.1       ]])"
      ]
     },
     "execution_count": 67,
     "metadata": {},
     "output_type": "execute_result"
    }
   ],
   "source": [
    "yy #(100 x100) data points between y_min to y_max saved in var. yy"
   ]
  },
  {
   "cell_type": "code",
   "execution_count": 68,
   "id": "61670605",
   "metadata": {},
   "outputs": [
    {
     "name": "stdout",
     "output_type": "stream",
     "text": [
      "(100, 100)\n",
      "(100, 100)\n"
     ]
    }
   ],
   "source": [
    "print(xx.shape)\n",
    "print(yy.shape)"
   ]
  },
  {
   "cell_type": "markdown",
   "id": "6c35f985",
   "metadata": {},
   "source": [
    "xx and yy are 2D arrays => convert them into 1D using ravel() method "
   ]
  },
  {
   "cell_type": "code",
   "execution_count": 69,
   "id": "edba8a16",
   "metadata": {},
   "outputs": [
    {
     "data": {
      "text/plain": [
       "array([-0.1       , -0.08787879, -0.07575758, ...,  1.07575758,\n",
       "        1.08787879,  1.1       ])"
      ]
     },
     "execution_count": 69,
     "metadata": {},
     "output_type": "execute_result"
    }
   ],
   "source": [
    "xx.ravel()"
   ]
  },
  {
   "cell_type": "code",
   "execution_count": 70,
   "id": "02615b80",
   "metadata": {},
   "outputs": [
    {
     "data": {
      "text/plain": [
       "array([-0.1, -0.1, -0.1, ...,  1.1,  1.1,  1.1])"
      ]
     },
     "execution_count": 70,
     "metadata": {},
     "output_type": "execute_result"
    }
   ],
   "source": [
    "yy.ravel()"
   ]
  },
  {
   "cell_type": "code",
   "execution_count": 71,
   "id": "e26d97b8",
   "metadata": {},
   "outputs": [],
   "source": [
    "x_in = np.c_[xx.ravel(),yy.ravel()] # concatenate elements of 1st row and 2nd row  from both the arrays "
   ]
  },
  {
   "cell_type": "code",
   "execution_count": 72,
   "id": "4c86bd7b",
   "metadata": {},
   "outputs": [
    {
     "data": {
      "text/plain": [
       "array([[-0.1       , -0.1       ],\n",
       "       [-0.08787879, -0.1       ],\n",
       "       [-0.07575758, -0.1       ],\n",
       "       ...,\n",
       "       [ 1.07575758,  1.1       ],\n",
       "       [ 1.08787879,  1.1       ],\n",
       "       [ 1.1       ,  1.1       ]])"
      ]
     },
     "execution_count": 72,
     "metadata": {},
     "output_type": "execute_result"
    }
   ],
   "source": [
    "x_in"
   ]
  },
  {
   "cell_type": "code",
   "execution_count": 73,
   "id": "4d17b92f",
   "metadata": {},
   "outputs": [
    {
     "data": {
      "text/plain": [
       "(10000, 2)"
      ]
     },
     "execution_count": 73,
     "metadata": {},
     "output_type": "execute_result"
    }
   ],
   "source": [
    "x_in.shape   # 20000 data points"
   ]
  },
  {
   "cell_type": "markdown",
   "id": "fb15696a",
   "metadata": {},
   "source": [
    "# Now, use the trained model to evaluate the model on test set (x_in)  "
   ]
  },
  {
   "cell_type": "code",
   "execution_count": 74,
   "id": "5b0bf965",
   "metadata": {},
   "outputs": [
    {
     "data": {
      "text/plain": [
       "(21, 16)"
      ]
     },
     "execution_count": 74,
     "metadata": {},
     "output_type": "execute_result"
    }
   ],
   "source": [
    "X_test.shape"
   ]
  },
  {
   "cell_type": "code",
   "execution_count": 75,
   "id": "e317add0",
   "metadata": {},
   "outputs": [],
   "source": [
    "x_in = x_in.reshape(1250,16)  # 1250x16 = 20000 data points (no of columns of x_in should be equal to no of columns of X_test )"
   ]
  },
  {
   "cell_type": "code",
   "execution_count": 76,
   "id": "52a05f18",
   "metadata": {},
   "outputs": [
    {
     "data": {
      "text/plain": [
       "array([[-0.1       , -0.1       , -0.08787879, ..., -0.1       ,\n",
       "        -0.01515152, -0.1       ],\n",
       "       [-0.0030303 , -0.1       ,  0.00909091, ..., -0.1       ,\n",
       "         0.08181818, -0.1       ],\n",
       "       [ 0.09393939, -0.1       ,  0.10606061, ..., -0.1       ,\n",
       "         0.17878788, -0.1       ],\n",
       "       ...,\n",
       "       [ 0.82121212,  1.1       ,  0.83333333, ...,  1.1       ,\n",
       "         0.90606061,  1.1       ],\n",
       "       [ 0.91818182,  1.1       ,  0.93030303, ...,  1.1       ,\n",
       "         1.0030303 ,  1.1       ],\n",
       "       [ 1.01515152,  1.1       ,  1.02727273, ...,  1.1       ,\n",
       "         1.1       ,  1.1       ]])"
      ]
     },
     "execution_count": 76,
     "metadata": {},
     "output_type": "execute_result"
    }
   ],
   "source": [
    "x_in"
   ]
  },
  {
   "cell_type": "code",
   "execution_count": 77,
   "id": "519058fe",
   "metadata": {},
   "outputs": [
    {
     "data": {
      "text/plain": [
       "(1250, 16)"
      ]
     },
     "execution_count": 77,
     "metadata": {},
     "output_type": "execute_result"
    }
   ],
   "source": [
    "x_in.shape"
   ]
  },
  {
   "cell_type": "code",
   "execution_count": 78,
   "id": "f4a77fe8",
   "metadata": {},
   "outputs": [],
   "source": [
    "Y_pred = model_KNN.predict(x_in) # predict the class of Y for a given testing data x_in"
   ]
  },
  {
   "cell_type": "code",
   "execution_count": 79,
   "id": "d85362f2",
   "metadata": {},
   "outputs": [
    {
     "data": {
      "text/plain": [
       "array([3, 3, 3, ..., 4, 4, 2], dtype=int64)"
      ]
     },
     "execution_count": 79,
     "metadata": {},
     "output_type": "execute_result"
    }
   ],
   "source": [
    "Y_pred"
   ]
  },
  {
   "cell_type": "code",
   "execution_count": 80,
   "id": "66194581",
   "metadata": {},
   "outputs": [
    {
     "data": {
      "text/plain": [
       "(1250,)"
      ]
     },
     "execution_count": 80,
     "metadata": {},
     "output_type": "execute_result"
    }
   ],
   "source": [
    "Y_pred.shape"
   ]
  },
  {
   "cell_type": "code",
   "execution_count": 81,
   "id": "432e15f5",
   "metadata": {},
   "outputs": [],
   "source": [
    "Y_Pred1= np.pad(Y_pred, (0, 8750))  # add 8750 zeros at the end of array to get 10000 elements in Y_pred and save in Y_pred1"
   ]
  },
  {
   "cell_type": "code",
   "execution_count": 82,
   "id": "cc90e830",
   "metadata": {},
   "outputs": [
    {
     "data": {
      "text/plain": [
       "array([3, 3, 3, ..., 0, 0, 0], dtype=int64)"
      ]
     },
     "execution_count": 82,
     "metadata": {},
     "output_type": "execute_result"
    }
   ],
   "source": [
    "Y_Pred1"
   ]
  },
  {
   "cell_type": "code",
   "execution_count": 83,
   "id": "50838809",
   "metadata": {},
   "outputs": [
    {
     "data": {
      "text/plain": [
       "(10000,)"
      ]
     },
     "execution_count": 83,
     "metadata": {},
     "output_type": "execute_result"
    }
   ],
   "source": [
    "Y_Pred1.shape"
   ]
  },
  {
   "cell_type": "code",
   "execution_count": 84,
   "id": "94000992",
   "metadata": {},
   "outputs": [],
   "source": [
    "Y_Pred1 = Y_Pred1.reshape(xx.shape)  #reshaping "
   ]
  },
  {
   "cell_type": "code",
   "execution_count": 85,
   "id": "9599b0c7",
   "metadata": {},
   "outputs": [
    {
     "data": {
      "text/plain": [
       "array([[3, 3, 3, ..., 2, 2, 2],\n",
       "       [4, 3, 3, ..., 2, 2, 2],\n",
       "       [4, 4, 3, ..., 2, 2, 2],\n",
       "       ...,\n",
       "       [0, 0, 0, ..., 0, 0, 0],\n",
       "       [0, 0, 0, ..., 0, 0, 0],\n",
       "       [0, 0, 0, ..., 0, 0, 0]], dtype=int64)"
      ]
     },
     "execution_count": 85,
     "metadata": {},
     "output_type": "execute_result"
    }
   ],
   "source": [
    "Y_Pred1"
   ]
  },
  {
   "cell_type": "code",
   "execution_count": 86,
   "id": "2d5a9dd4",
   "metadata": {},
   "outputs": [
    {
     "data": {
      "text/plain": [
       "(100, 100)"
      ]
     },
     "execution_count": 86,
     "metadata": {},
     "output_type": "execute_result"
    }
   ],
   "source": [
    "Y_Pred1.shape"
   ]
  },
  {
   "cell_type": "markdown",
   "id": "2f92d931",
   "metadata": {},
   "source": [
    "now, we are ready to plot our decision boundary "
   ]
  },
  {
   "cell_type": "code",
   "execution_count": 87,
   "id": "37162b6d",
   "metadata": {},
   "outputs": [
    {
     "data": {
      "text/plain": [
       "<matplotlib.collections.PathCollection at 0x23ca8741c70>"
      ]
     },
     "execution_count": 87,
     "metadata": {},
     "output_type": "execute_result"
    },
    {
     "data": {
      "image/png": "[encoded data removed]",
      "text/plain": [
       "<Figure size 640x480 with 1 Axes>"
      ]
     },
     "metadata": {},
     "output_type": "display_data"
    }
   ],
   "source": [
    "plt.contourf(xx, yy, Y_Pred1, cmap = plt.cm.RdYlBu, alpha =0.7)\n",
    "plt.scatter(X[:,0], X[:,1], c=Y, cmap = plt.cm.RdYlBu)"
   ]
  },
  {
   "cell_type": "code",
   "execution_count": null,
   "id": "5ca842cf",
   "metadata": {},
   "outputs": [],
   "source": []
  }
 ],
 "metadata": {
  "kernelspec": {
   "display_name": "Python 3 (ipykernel)",
   "language": "python",
   "name": "python3"
  },
  "language_info": {
   "codemirror_mode": {
    "name": "ipython",
    "version": 3
   },
   "file_extension": ".py",
   "mimetype": "text/x-python",
   "name": "python",
   "nbconvert_exporter": "python",
   "pygments_lexer": "ipython3",
   "version": "3.9.13"
  }
 },
 "nbformat": 4,
 "nbformat_minor": 5
}
